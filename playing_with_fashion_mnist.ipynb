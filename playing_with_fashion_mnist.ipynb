{
 "cells": [
  {
   "cell_type": "code",
   "execution_count": 1,
   "metadata": {},
   "outputs": [],
   "source": [
    "from keras.utils import to_categorical\n",
    "from sklearn.model_selection import train_test_split\n",
    "import numpy as np\n",
    "import pandas as pd\n",
    "import keras\n",
    "from keras.models import Sequential\n",
    "from keras.layers import Dense, Dropout, Flatten, Conv2D, MaxPooling2D\n",
    "from keras.layers.normalization import BatchNormalization"
   ]
  },
  {
   "cell_type": "code",
   "execution_count": 2,
   "metadata": {},
   "outputs": [],
   "source": [
    "#Read data from csv\n",
    "train_data = pd.read_csv('fmnist/fashion-mnist_train.csv')\n",
    "test_data = pd.read_csv('fmnist/fashion-mnist_test.csv')"
   ]
  },
  {
   "cell_type": "code",
   "execution_count": 3,
   "metadata": {},
   "outputs": [],
   "source": [
    "#Setting images parameters\n",
    "img_rows, img_cols = 28, 28\n",
    "input_shape = (img_rows, img_cols, 1)\n",
    "\n",
    "X = np.array(train_data.iloc[:, 1:])\n",
    "y = to_categorical(np.array(train_data.iloc[:,0]))"
   ]
  },
  {
   "cell_type": "code",
   "execution_count": 9,
   "metadata": {},
   "outputs": [],
   "source": [
    "#Separating train data into train and validation set\n",
    "X_train, X_val, Y_train, Y_val = train_test_split(X, y, test_size=0.2, random_state=13)"
   ]
  },
  {
   "cell_type": "code",
   "execution_count": 20,
   "metadata": {},
   "outputs": [],
   "source": [
    "#Load test data into X_test and Y_test\n",
    "X_test = np.array(test_data.iloc[:, 1:])\n",
    "Y_test = to_categorical(np.array(test_data.iloc[:, 0]))\n",
    "\n",
    "#Now preprocessing of data\n",
    "X_train = X_train.reshape(X_train.shape[0], img_rows, img_cols, 1)\n",
    "X_test = X_test.reshape(X_test.shape[0], img_rows, img_cols, 1)\n",
    "X_val = X_val.reshape(X_val.shape[0], img_rows, img_cols, 1)\n",
    "\n",
    "X_train = X_train.astype('float32')\n",
    "X_test = X_test.astype('float32')\n",
    "X_val = X_val.astype('float32')\n",
    "\n",
    "X_train /= 255\n",
    "X_test /= 255\n",
    "X_val /=255"
   ]
  },
  {
   "cell_type": "code",
   "execution_count": 21,
   "metadata": {},
   "outputs": [],
   "source": [
    "#Building our CNN using keras\n",
    "\n",
    "batch_size = 256\n",
    "n_classes = 10\n",
    "epochs = 50\n",
    "\n",
    "model = Sequential()\n",
    "model.add(Conv2D(32, kernel_size=(3,3), activation='relu', kernel_initializer='he_normal', input_shape=input_shape))\n",
    "model.add(MaxPooling2D((2,2)))\n",
    "model.add(Dropout(0.25))\n",
    "model.add(Conv2D(64, (3,3), activation='relu'))\n",
    "model.add(MaxPooling2D(pool_size=(2,2)))\n",
    "model.add(Dropout(0.25))\n",
    "model.add(Conv2D(128, (3,3), activation='relu'))\n",
    "model.add(Dropout(0.4))\n",
    "model.add(Flatten())\n",
    "model.add(Dense(128, activation='relu'))\n",
    "model.add(Dropout(0.3))\n",
    "model.add(Dense(n_classes, activation='softmax'))\n",
    "\n",
    "model.compile(loss=keras.losses.categorical_crossentropy, optimizer=keras.optimizers.Adam(), metrics=['accuracy'])"
   ]
  },
  {
   "cell_type": "code",
   "execution_count": 22,
   "metadata": {},
   "outputs": [
    {
     "name": "stdout",
     "output_type": "stream",
     "text": [
      "_________________________________________________________________\n",
      "Layer (type)                 Output Shape              Param #   \n",
      "=================================================================\n",
      "conv2d_4 (Conv2D)            (None, 26, 26, 32)        320       \n",
      "_________________________________________________________________\n",
      "max_pooling2d_3 (MaxPooling2 (None, 13, 13, 32)        0         \n",
      "_________________________________________________________________\n",
      "dropout_5 (Dropout)          (None, 13, 13, 32)        0         \n",
      "_________________________________________________________________\n",
      "conv2d_5 (Conv2D)            (None, 11, 11, 64)        18496     \n",
      "_________________________________________________________________\n",
      "max_pooling2d_4 (MaxPooling2 (None, 5, 5, 64)          0         \n",
      "_________________________________________________________________\n",
      "dropout_6 (Dropout)          (None, 5, 5, 64)          0         \n",
      "_________________________________________________________________\n",
      "conv2d_6 (Conv2D)            (None, 3, 3, 128)         73856     \n",
      "_________________________________________________________________\n",
      "dropout_7 (Dropout)          (None, 3, 3, 128)         0         \n",
      "_________________________________________________________________\n",
      "flatten_2 (Flatten)          (None, 1152)              0         \n",
      "_________________________________________________________________\n",
      "dense_3 (Dense)              (None, 128)               147584    \n",
      "_________________________________________________________________\n",
      "dropout_8 (Dropout)          (None, 128)               0         \n",
      "_________________________________________________________________\n",
      "dense_4 (Dense)              (None, 10)                1290      \n",
      "=================================================================\n",
      "Total params: 241,546\n",
      "Trainable params: 241,546\n",
      "Non-trainable params: 0\n",
      "_________________________________________________________________\n"
     ]
    }
   ],
   "source": [
    "model.summary()"
   ]
  },
  {
   "cell_type": "code",
   "execution_count": 23,
   "metadata": {},
   "outputs": [
    {
     "name": "stdout",
     "output_type": "stream",
     "text": [
      "Train on 48000 samples, validate on 12000 samples\n",
      "Epoch 1/50\n",
      "48000/48000 [==============================] - 21s - loss: 0.8831 - acc: 0.6664 - val_loss: 0.5333 - val_acc: 0.8066\n",
      "Epoch 2/50\n",
      "48000/48000 [==============================] - 21s - loss: 0.5409 - acc: 0.7964 - val_loss: 0.4388 - val_acc: 0.8376\n",
      "Epoch 3/50\n",
      "48000/48000 [==============================] - 21s - loss: 0.4675 - acc: 0.8274 - val_loss: 0.3998 - val_acc: 0.8549\n",
      "Epoch 4/50\n",
      "48000/48000 [==============================] - 21s - loss: 0.4207 - acc: 0.8438 - val_loss: 0.3566 - val_acc: 0.8675\n",
      "Epoch 5/50\n",
      "48000/48000 [==============================] - 21s - loss: 0.3897 - acc: 0.8549 - val_loss: 0.3449 - val_acc: 0.8698\n",
      "Epoch 6/50\n",
      "48000/48000 [==============================] - 20s - loss: 0.3638 - acc: 0.8657 - val_loss: 0.3211 - val_acc: 0.8817\n",
      "Epoch 7/50\n",
      "48000/48000 [==============================] - 21s - loss: 0.3467 - acc: 0.8743 - val_loss: 0.3016 - val_acc: 0.8900\n",
      "Epoch 8/50\n",
      "48000/48000 [==============================] - 21s - loss: 0.3313 - acc: 0.8795 - val_loss: 0.2853 - val_acc: 0.8933\n",
      "Epoch 9/50\n",
      "48000/48000 [==============================] - 21s - loss: 0.3189 - acc: 0.8830 - val_loss: 0.2784 - val_acc: 0.8957\n",
      "Epoch 10/50\n",
      "48000/48000 [==============================] - 21s - loss: 0.3020 - acc: 0.8888 - val_loss: 0.2704 - val_acc: 0.8974\n",
      "Epoch 11/50\n",
      "48000/48000 [==============================] - 21s - loss: 0.2974 - acc: 0.8905 - val_loss: 0.2669 - val_acc: 0.9011\n",
      "Epoch 12/50\n",
      "48000/48000 [==============================] - 20s - loss: 0.2888 - acc: 0.8926 - val_loss: 0.2642 - val_acc: 0.9016\n",
      "Epoch 13/50\n",
      "48000/48000 [==============================] - 21s - loss: 0.2804 - acc: 0.8976 - val_loss: 0.2530 - val_acc: 0.9052\n",
      "Epoch 14/50\n",
      "48000/48000 [==============================] - 21s - loss: 0.2780 - acc: 0.8979 - val_loss: 0.2547 - val_acc: 0.9028\n",
      "Epoch 15/50\n",
      "48000/48000 [==============================] - 21s - loss: 0.2735 - acc: 0.8994 - val_loss: 0.2422 - val_acc: 0.9081\n",
      "Epoch 16/50\n",
      "48000/48000 [==============================] - 20s - loss: 0.2663 - acc: 0.9014 - val_loss: 0.2465 - val_acc: 0.9084\n",
      "Epoch 17/50\n",
      "48000/48000 [==============================] - 21s - loss: 0.2594 - acc: 0.9024 - val_loss: 0.2394 - val_acc: 0.9097\n",
      "Epoch 18/50\n",
      "48000/48000 [==============================] - 21s - loss: 0.2540 - acc: 0.9052 - val_loss: 0.2365 - val_acc: 0.9108\n",
      "Epoch 19/50\n",
      "48000/48000 [==============================] - 20s - loss: 0.2531 - acc: 0.9069 - val_loss: 0.2318 - val_acc: 0.9130\n",
      "Epoch 20/50\n",
      "48000/48000 [==============================] - 21s - loss: 0.2468 - acc: 0.9084 - val_loss: 0.2308 - val_acc: 0.9122\n",
      "Epoch 21/50\n",
      "48000/48000 [==============================] - 21s - loss: 0.2408 - acc: 0.9105 - val_loss: 0.2309 - val_acc: 0.9139\n",
      "Epoch 22/50\n",
      "48000/48000 [==============================] - 21s - loss: 0.2411 - acc: 0.9101 - val_loss: 0.2268 - val_acc: 0.9145\n",
      "Epoch 23/50\n",
      "48000/48000 [==============================] - 21s - loss: 0.2374 - acc: 0.9113 - val_loss: 0.2291 - val_acc: 0.9123\n",
      "Epoch 24/50\n",
      "48000/48000 [==============================] - 20s - loss: 0.2310 - acc: 0.9134 - val_loss: 0.2262 - val_acc: 0.9144\n",
      "Epoch 25/50\n",
      "48000/48000 [==============================] - 21s - loss: 0.2316 - acc: 0.9136 - val_loss: 0.2265 - val_acc: 0.9156\n",
      "Epoch 26/50\n",
      "48000/48000 [==============================] - 21s - loss: 0.2258 - acc: 0.9156 - val_loss: 0.2258 - val_acc: 0.9168\n",
      "Epoch 27/50\n",
      "48000/48000 [==============================] - 21s - loss: 0.2257 - acc: 0.9143 - val_loss: 0.2205 - val_acc: 0.9168\n",
      "Epoch 28/50\n",
      "48000/48000 [==============================] - 21s - loss: 0.2210 - acc: 0.9186 - val_loss: 0.2186 - val_acc: 0.9190\n",
      "Epoch 29/50\n",
      "48000/48000 [==============================] - 21s - loss: 0.2195 - acc: 0.9172 - val_loss: 0.2248 - val_acc: 0.9153\n",
      "Epoch 30/50\n",
      "48000/48000 [==============================] - 20s - loss: 0.2178 - acc: 0.9178 - val_loss: 0.2198 - val_acc: 0.9173\n",
      "Epoch 31/50\n",
      "48000/48000 [==============================] - 20s - loss: 0.2139 - acc: 0.9198 - val_loss: 0.2190 - val_acc: 0.9187\n",
      "Epoch 32/50\n",
      "48000/48000 [==============================] - 21s - loss: 0.2128 - acc: 0.9192 - val_loss: 0.2179 - val_acc: 0.9178\n",
      "Epoch 33/50\n",
      "48000/48000 [==============================] - 21s - loss: 0.2131 - acc: 0.9207 - val_loss: 0.2187 - val_acc: 0.9169\n",
      "Epoch 34/50\n",
      "48000/48000 [==============================] - 20s - loss: 0.2110 - acc: 0.9229 - val_loss: 0.2211 - val_acc: 0.9182\n",
      "Epoch 35/50\n",
      "48000/48000 [==============================] - 20s - loss: 0.2074 - acc: 0.9219 - val_loss: 0.2167 - val_acc: 0.9207\n",
      "Epoch 36/50\n",
      "48000/48000 [==============================] - 20s - loss: 0.2065 - acc: 0.9216 - val_loss: 0.2214 - val_acc: 0.9191\n",
      "Epoch 37/50\n",
      "48000/48000 [==============================] - 21s - loss: 0.2025 - acc: 0.9232 - val_loss: 0.2164 - val_acc: 0.9233\n",
      "Epoch 38/50\n",
      "48000/48000 [==============================] - 20s - loss: 0.2034 - acc: 0.9229 - val_loss: 0.2160 - val_acc: 0.9199\n",
      "Epoch 39/50\n",
      "48000/48000 [==============================] - 21s - loss: 0.2046 - acc: 0.9224 - val_loss: 0.2164 - val_acc: 0.9206\n",
      "Epoch 40/50\n",
      "48000/48000 [==============================] - 21s - loss: 0.1990 - acc: 0.9241 - val_loss: 0.2166 - val_acc: 0.9205\n",
      "Epoch 41/50\n",
      "48000/48000 [==============================] - 20s - loss: 0.2022 - acc: 0.9246 - val_loss: 0.2181 - val_acc: 0.9206\n",
      "Epoch 42/50\n",
      "48000/48000 [==============================] - 20s - loss: 0.1973 - acc: 0.9257 - val_loss: 0.2138 - val_acc: 0.9219\n",
      "Epoch 43/50\n",
      "48000/48000 [==============================] - 21s - loss: 0.1974 - acc: 0.9254 - val_loss: 0.2150 - val_acc: 0.9212\n",
      "Epoch 44/50\n",
      "48000/48000 [==============================] - 20s - loss: 0.1933 - acc: 0.9265 - val_loss: 0.2139 - val_acc: 0.9213\n",
      "Epoch 45/50\n",
      "48000/48000 [==============================] - 21s - loss: 0.1891 - acc: 0.9291 - val_loss: 0.2168 - val_acc: 0.9210\n",
      "Epoch 46/50\n",
      "48000/48000 [==============================] - 21s - loss: 0.1941 - acc: 0.9277 - val_loss: 0.2159 - val_acc: 0.9205\n",
      "Epoch 47/50\n",
      "48000/48000 [==============================] - 20s - loss: 0.1889 - acc: 0.9293 - val_loss: 0.2176 - val_acc: 0.9215\n",
      "Epoch 48/50\n",
      "48000/48000 [==============================] - 21s - loss: 0.1873 - acc: 0.9288 - val_loss: 0.2169 - val_acc: 0.9201\n",
      "Epoch 49/50\n",
      "48000/48000 [==============================] - 20s - loss: 0.1874 - acc: 0.9284 - val_loss: 0.2140 - val_acc: 0.9227\n",
      "Epoch 50/50\n",
      "48000/48000 [==============================] - 20s - loss: 0.1860 - acc: 0.9303 - val_loss: 0.2175 - val_acc: 0.9216\n"
     ]
    }
   ],
   "source": [
    "#Evaluation of our model\n",
    "history = model.fit(X_train, Y_train, batch_size=batch_size, epochs=epochs, verbose=1, validation_data=(X_val,Y_val))"
   ]
  },
  {
   "cell_type": "code",
   "execution_count": 24,
   "metadata": {},
   "outputs": [],
   "source": [
    "#Accuracy on testing data\n",
    "score = model.evaluate(X_test, Y_test, verbose=0)"
   ]
  },
  {
   "cell_type": "code",
   "execution_count": 32,
   "metadata": {},
   "outputs": [
    {
     "name": "stdout",
     "output_type": "stream",
     "text": [
      "Loss: 0.202474860071\n",
      "Accuracy: 0.9277\n"
     ]
    }
   ],
   "source": [
    "#Print testing data loss and accuracy of our model\n",
    "print('Loss:',score[0])\n",
    "print('Accuracy:',score[1])"
   ]
  },
  {
   "cell_type": "code",
   "execution_count": 33,
   "metadata": {},
   "outputs": [],
   "source": [
    "#save model\n",
    "model.save('fashion-mnist-cnn.json')\n",
    "model.save_weights('fashion-mnist-weights.h5')"
   ]
  }
 ],
 "metadata": {
  "kernelspec": {
   "display_name": "Python 3",
   "language": "python",
   "name": "python3"
  },
  "language_info": {
   "codemirror_mode": {
    "name": "ipython",
    "version": 3
   },
   "file_extension": ".py",
   "mimetype": "text/x-python",
   "name": "python",
   "nbconvert_exporter": "python",
   "pygments_lexer": "ipython3",
   "version": "3.6.3"
  }
 },
 "nbformat": 4,
 "nbformat_minor": 2
}
