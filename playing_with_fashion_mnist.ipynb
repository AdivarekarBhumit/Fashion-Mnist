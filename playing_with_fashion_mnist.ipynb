{
 "cells": [
  {
   "cell_type": "code",
   "execution_count": 1,
   "metadata": {},
   "outputs": [
    {
     "name": "stderr",
     "output_type": "stream",
     "text": [
      "Using TensorFlow backend.\n"
     ]
    }
   ],
   "source": [
    "from keras.utils import to_categorical\n",
    "from sklearn.model_selection import train_test_split\n",
    "import numpy as np\n",
    "import pandas as pd\n",
    "import keras\n",
    "from keras.models import Sequential\n",
    "from keras.layers import Dense, Dropout, Flatten, Conv2D, MaxPooling2D\n",
    "from keras.layers.normalization import BatchNormalization"
   ]
  },
  {
   "cell_type": "code",
   "execution_count": 3,
   "metadata": {},
   "outputs": [],
   "source": [
    "#Read data from csv\n",
    "train_data = pd.read_csv('fmnist/fashion-mnist_train.csv')\n",
    "test_data = pd.read_csv('fmnist/fashion-mnist_test.csv')"
   ]
  },
  {
   "cell_type": "code",
   "execution_count": 4,
   "metadata": {},
   "outputs": [],
   "source": [
    "#Setting images parameters\n",
    "img_rows, img_cols = 28, 28\n",
    "input_shape = (img_rows, img_cols, 1)\n",
    "\n",
    "X = np.array(train_data.iloc[:, 1:])\n",
    "y = to_categorical(np.array(train_data.iloc[:,0]))"
   ]
  },
  {
   "cell_type": "code",
   "execution_count": 5,
   "metadata": {},
   "outputs": [],
   "source": [
    "#Separating train data into train and validation set\n",
    "X_train, X_val, Y_train, Y_val = train_test_split(X, y, test_size=0.2, random_state=13)"
   ]
  },
  {
   "cell_type": "code",
   "execution_count": 6,
   "metadata": {},
   "outputs": [],
   "source": [
    "#Load test data into X_test and Y_test\n",
    "X_test = np.array(test_data.iloc[:, 1:])\n",
    "Y_test = to_categorical(np.array(test_data.iloc[:, 0]))\n",
    "\n",
    "#Now preprocessing of data\n",
    "X_train = X_train.reshape(X_train.shape[0], img_rows, img_cols, 1)\n",
    "X_test = X_test.reshape(X_test.shape[0], img_rows, img_cols, 1)\n",
    "X_val = X_val.reshape(X_val.shape[0], img_rows, img_cols, 1)\n",
    "\n",
    "X_train = X_train.astype('float32')\n",
    "X_test = X_test.astype('float32')\n",
    "X_val = X_val.astype('float32')\n",
    "\n",
    "X_train /= 255\n",
    "X_test /= 255\n",
    "X_val /=255"
   ]
  },
  {
   "cell_type": "code",
   "execution_count": 12,
   "metadata": {},
   "outputs": [],
   "source": [
    "#Building our CNN using keras\n",
    "\n",
    "batch_size = 256\n",
    "n_classes = 10\n",
    "epochs = 50\n",
    "\n",
    "model = Sequential()\n",
    "model.add(Conv2D(32, kernel_size=(3,3), activation='relu', kernel_initializer='he_normal', input_shape=input_shape))\n",
    "model.add(MaxPooling2D((2,2)))\n",
    "model.add(Dropout(0.25))\n",
    "model.add(Conv2D(64, (3,3), activation='relu'))\n",
    "model.add(MaxPooling2D(pool_size=(2,2)))\n",
    "model.add(Dropout(0.25))\n",
    "model.add(Conv2D(128, (3,3), activation='relu'))\n",
    "model.add(Dropout(0.4))\n",
    "model.add(Flatten())\n",
    "model.add(Dense(128, activation='relu'))\n",
    "model.add(Dropout(0.3))\n",
    "model.add(Dense(n_classes, activation='softmax'))\n",
    "\n",
    "model.compile(loss=keras.losses.categorical_crossentropy, optimizer=keras.optimizers.Adam(), metrics=['accuracy'])"
   ]
  },
  {
   "cell_type": "code",
   "execution_count": 13,
   "metadata": {},
   "outputs": [
    {
     "name": "stdout",
     "output_type": "stream",
     "text": [
      "_________________________________________________________________\n",
      "Layer (type)                 Output Shape              Param #   \n",
      "=================================================================\n",
      "conv2d_1 (Conv2D)            (None, 26, 26, 32)        320       \n",
      "_________________________________________________________________\n",
      "max_pooling2d_1 (MaxPooling2 (None, 13, 13, 32)        0         \n",
      "_________________________________________________________________\n",
      "dropout_1 (Dropout)          (None, 13, 13, 32)        0         \n",
      "_________________________________________________________________\n",
      "conv2d_2 (Conv2D)            (None, 11, 11, 64)        18496     \n",
      "_________________________________________________________________\n",
      "max_pooling2d_2 (MaxPooling2 (None, 5, 5, 64)          0         \n",
      "_________________________________________________________________\n",
      "dropout_2 (Dropout)          (None, 5, 5, 64)          0         \n",
      "_________________________________________________________________\n",
      "conv2d_3 (Conv2D)            (None, 3, 3, 128)         73856     \n",
      "_________________________________________________________________\n",
      "dropout_3 (Dropout)          (None, 3, 3, 128)         0         \n",
      "_________________________________________________________________\n",
      "flatten_1 (Flatten)          (None, 1152)              0         \n",
      "_________________________________________________________________\n",
      "dense_1 (Dense)              (None, 128)               147584    \n",
      "_________________________________________________________________\n",
      "dropout_4 (Dropout)          (None, 128)               0         \n",
      "_________________________________________________________________\n",
      "dense_2 (Dense)              (None, 10)                1290      \n",
      "=================================================================\n",
      "Total params: 241,546\n",
      "Trainable params: 241,546\n",
      "Non-trainable params: 0\n",
      "_________________________________________________________________\n"
     ]
    }
   ],
   "source": [
    "model.summary()"
   ]
  },
  {
   "cell_type": "code",
   "execution_count": 9,
   "metadata": {},
   "outputs": [],
   "source": [
    "import tensorflow as tf\n",
    "tf.reset_default_graph()\n",
    "tbcallback = keras.callbacks.TensorBoard(log_dir=\"./Graph\", histogram_freq=0, write_graph=True, write_images=True)"
   ]
  },
  {
   "cell_type": "code",
   "execution_count": 14,
   "metadata": {},
   "outputs": [
    {
     "name": "stdout",
     "output_type": "stream",
     "text": [
      "Train on 48000 samples, validate on 12000 samples\n",
      "Epoch 1/50\n",
      "48000/48000 [==============================] - 25s - loss: 0.8639 - acc: 0.6766 - val_loss: 0.5336 - val_acc: 0.8032\n",
      "Epoch 2/50\n",
      "48000/48000 [==============================] - 21s - loss: 0.5281 - acc: 0.8041 - val_loss: 0.4244 - val_acc: 0.8417\n",
      "Epoch 3/50\n",
      "48000/48000 [==============================] - 21s - loss: 0.4520 - acc: 0.8362 - val_loss: 0.3698 - val_acc: 0.8643\n",
      "Epoch 4/50\n",
      "48000/48000 [==============================] - 21s - loss: 0.4092 - acc: 0.8520 - val_loss: 0.3351 - val_acc: 0.8767\n",
      "Epoch 5/50\n",
      "48000/48000 [==============================] - 21s - loss: 0.3763 - acc: 0.8617 - val_loss: 0.3178 - val_acc: 0.8832\n",
      "Epoch 6/50\n",
      "48000/48000 [==============================] - 21s - loss: 0.3615 - acc: 0.8699 - val_loss: 0.3061 - val_acc: 0.8879\n",
      "Epoch 7/50\n",
      "48000/48000 [==============================] - 21s - loss: 0.3373 - acc: 0.8777 - val_loss: 0.2972 - val_acc: 0.8902\n",
      "Epoch 8/50\n",
      "48000/48000 [==============================] - 21s - loss: 0.3219 - acc: 0.8835 - val_loss: 0.2905 - val_acc: 0.8931\n",
      "Epoch 9/50\n",
      "48000/48000 [==============================] - 20s - loss: 0.3141 - acc: 0.8846 - val_loss: 0.2789 - val_acc: 0.8947\n",
      "Epoch 10/50\n",
      "48000/48000 [==============================] - 20s - loss: 0.3024 - acc: 0.8903 - val_loss: 0.2683 - val_acc: 0.8988\n",
      "Epoch 11/50\n",
      "48000/48000 [==============================] - 21s - loss: 0.2946 - acc: 0.8927 - val_loss: 0.2595 - val_acc: 0.9011\n",
      "Epoch 12/50\n",
      "48000/48000 [==============================] - 20s - loss: 0.2892 - acc: 0.8931 - val_loss: 0.2567 - val_acc: 0.9032\n",
      "Epoch 13/50\n",
      "48000/48000 [==============================] - 20s - loss: 0.2827 - acc: 0.8955 - val_loss: 0.2529 - val_acc: 0.9041\n",
      "Epoch 14/50\n",
      "48000/48000 [==============================] - 21s - loss: 0.2734 - acc: 0.8985 - val_loss: 0.2459 - val_acc: 0.9047\n",
      "Epoch 15/50\n",
      "48000/48000 [==============================] - 21s - loss: 0.2666 - acc: 0.9016 - val_loss: 0.2544 - val_acc: 0.9042\n",
      "Epoch 16/50\n",
      "48000/48000 [==============================] - 20s - loss: 0.2653 - acc: 0.9022 - val_loss: 0.2417 - val_acc: 0.9076\n",
      "Epoch 17/50\n",
      "48000/48000 [==============================] - 21s - loss: 0.2572 - acc: 0.9065 - val_loss: 0.2512 - val_acc: 0.9060\n",
      "Epoch 18/50\n",
      "48000/48000 [==============================] - 21s - loss: 0.2535 - acc: 0.9067 - val_loss: 0.2351 - val_acc: 0.9118\n",
      "Epoch 19/50\n",
      "48000/48000 [==============================] - 21s - loss: 0.2483 - acc: 0.9087 - val_loss: 0.2342 - val_acc: 0.9144\n",
      "Epoch 20/50\n",
      "48000/48000 [==============================] - 20s - loss: 0.2464 - acc: 0.9080 - val_loss: 0.2342 - val_acc: 0.9112\n",
      "Epoch 21/50\n",
      "48000/48000 [==============================] - 20s - loss: 0.2400 - acc: 0.9115 - val_loss: 0.2327 - val_acc: 0.9127\n",
      "Epoch 22/50\n",
      "48000/48000 [==============================] - 20s - loss: 0.2392 - acc: 0.9114 - val_loss: 0.2327 - val_acc: 0.9118\n",
      "Epoch 23/50\n",
      "48000/48000 [==============================] - 20s - loss: 0.2346 - acc: 0.9119 - val_loss: 0.2299 - val_acc: 0.9119\n",
      "Epoch 24/50\n",
      "48000/48000 [==============================] - 21s - loss: 0.2341 - acc: 0.9128 - val_loss: 0.2332 - val_acc: 0.9143\n",
      "Epoch 25/50\n",
      "48000/48000 [==============================] - 20s - loss: 0.2308 - acc: 0.9139 - val_loss: 0.2236 - val_acc: 0.9157\n",
      "Epoch 26/50\n",
      "48000/48000 [==============================] - 20s - loss: 0.2257 - acc: 0.9150 - val_loss: 0.2274 - val_acc: 0.9159\n",
      "Epoch 27/50\n",
      "48000/48000 [==============================] - 20s - loss: 0.2214 - acc: 0.9157 - val_loss: 0.2209 - val_acc: 0.9198\n",
      "Epoch 28/50\n",
      "48000/48000 [==============================] - 21s - loss: 0.2198 - acc: 0.9181 - val_loss: 0.2259 - val_acc: 0.9173\n",
      "Epoch 29/50\n",
      "48000/48000 [==============================] - 20s - loss: 0.2189 - acc: 0.9174 - val_loss: 0.2182 - val_acc: 0.9190\n",
      "Epoch 30/50\n",
      "48000/48000 [==============================] - 21s - loss: 0.2177 - acc: 0.9191 - val_loss: 0.2222 - val_acc: 0.9173\n",
      "Epoch 31/50\n",
      "48000/48000 [==============================] - 21s - loss: 0.2157 - acc: 0.9197 - val_loss: 0.2185 - val_acc: 0.9197\n",
      "Epoch 32/50\n",
      "48000/48000 [==============================] - 20s - loss: 0.2153 - acc: 0.9181 - val_loss: 0.2201 - val_acc: 0.9187\n",
      "Epoch 33/50\n",
      "48000/48000 [==============================] - 21s - loss: 0.2067 - acc: 0.9222 - val_loss: 0.2166 - val_acc: 0.9180\n",
      "Epoch 34/50\n",
      "48000/48000 [==============================] - 21s - loss: 0.2098 - acc: 0.9206 - val_loss: 0.2158 - val_acc: 0.9193\n",
      "Epoch 35/50\n",
      "48000/48000 [==============================] - 20s - loss: 0.2084 - acc: 0.9227 - val_loss: 0.2173 - val_acc: 0.9216\n",
      "Epoch 36/50\n",
      "48000/48000 [==============================] - 21s - loss: 0.2094 - acc: 0.9210 - val_loss: 0.2159 - val_acc: 0.9207\n",
      "Epoch 37/50\n",
      "48000/48000 [==============================] - 21s - loss: 0.2064 - acc: 0.9220 - val_loss: 0.2164 - val_acc: 0.9186\n",
      "Epoch 38/50\n",
      "48000/48000 [==============================] - 20s - loss: 0.2051 - acc: 0.9235 - val_loss: 0.2165 - val_acc: 0.9186\n",
      "Epoch 39/50\n",
      "48000/48000 [==============================] - 21s - loss: 0.1994 - acc: 0.9246 - val_loss: 0.2141 - val_acc: 0.9212\n",
      "Epoch 40/50\n",
      "48000/48000 [==============================] - 21s - loss: 0.1992 - acc: 0.9249 - val_loss: 0.2145 - val_acc: 0.9218\n",
      "Epoch 41/50\n",
      "48000/48000 [==============================] - 21s - loss: 0.1989 - acc: 0.9246 - val_loss: 0.2120 - val_acc: 0.9203\n",
      "Epoch 42/50\n",
      "48000/48000 [==============================] - 21s - loss: 0.1964 - acc: 0.9260 - val_loss: 0.2181 - val_acc: 0.9205\n",
      "Epoch 43/50\n",
      "48000/48000 [==============================] - 20s - loss: 0.1962 - acc: 0.9259 - val_loss: 0.2166 - val_acc: 0.9217\n",
      "Epoch 44/50\n",
      "48000/48000 [==============================] - 20s - loss: 0.1943 - acc: 0.9261 - val_loss: 0.2128 - val_acc: 0.9225\n",
      "Epoch 45/50\n",
      "48000/48000 [==============================] - 21s - loss: 0.1928 - acc: 0.9272 - val_loss: 0.2144 - val_acc: 0.9207\n",
      "Epoch 46/50\n",
      "48000/48000 [==============================] - 21s - loss: 0.1956 - acc: 0.9254 - val_loss: 0.2120 - val_acc: 0.9220\n",
      "Epoch 47/50\n",
      "48000/48000 [==============================] - 20s - loss: 0.1938 - acc: 0.9271 - val_loss: 0.2098 - val_acc: 0.9233\n",
      "Epoch 48/50\n",
      "48000/48000 [==============================] - 21s - loss: 0.1884 - acc: 0.9284 - val_loss: 0.2147 - val_acc: 0.9211\n",
      "Epoch 49/50\n",
      "48000/48000 [==============================] - 20s - loss: 0.1841 - acc: 0.9306 - val_loss: 0.2172 - val_acc: 0.9204\n",
      "Epoch 50/50\n",
      "48000/48000 [==============================] - 21s - loss: 0.1908 - acc: 0.9280 - val_loss: 0.2139 - val_acc: 0.9232\n"
     ]
    }
   ],
   "source": [
    "#Evaluation of our model\n",
    "history = model.fit(X_train, Y_train, batch_size=batch_size, epochs=epochs, verbose=1, validation_data=(X_val,Y_val), callbacks=[tbcallback])"
   ]
  },
  {
   "cell_type": "code",
   "execution_count": 15,
   "metadata": {},
   "outputs": [],
   "source": [
    "#Accuracy on testing data\n",
    "score = model.evaluate(X_test, Y_test, verbose=0)"
   ]
  },
  {
   "cell_type": "code",
   "execution_count": 16,
   "metadata": {},
   "outputs": [
    {
     "name": "stdout",
     "output_type": "stream",
     "text": [
      "Loss: 0.205050881004\n",
      "Accuracy: 0.9248\n"
     ]
    }
   ],
   "source": [
    "#Print testing data loss and accuracy of our model\n",
    "print('Loss:',score[0])\n",
    "print('Accuracy:',score[1])"
   ]
  },
  {
   "cell_type": "code",
   "execution_count": 17,
   "metadata": {},
   "outputs": [],
   "source": [
    "#save model\n",
    "model.save('fashion-mnist-cnn.json')\n",
    "model.save_weights('fashion-mnist-weights.h5')"
   ]
  }
 ],
 "metadata": {
  "kernelspec": {
   "display_name": "Python 3",
   "language": "python",
   "name": "python3"
  },
  "language_info": {
   "codemirror_mode": {
    "name": "ipython",
    "version": 3
   },
   "file_extension": ".py",
   "mimetype": "text/x-python",
   "name": "python",
   "nbconvert_exporter": "python",
   "pygments_lexer": "ipython3",
   "version": "3.6.3"
  }
 },
 "nbformat": 4,
 "nbformat_minor": 2
}
